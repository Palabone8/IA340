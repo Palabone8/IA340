{
 "cells": [
  {
   "cell_type": "markdown",
   "id": "7b7c9ac0",
   "metadata": {},
   "source": [
    "# import the python labs"
   ]
  },
  {
   "cell_type": "code",
   "execution_count": 2,
   "id": "e688ea6d",
   "metadata": {},
   "outputs": [
    {
     "name": "stderr",
     "output_type": "stream",
     "text": [
      "/home/ec2-user/anaconda3/envs/python3/lib/python3.6/site-packages/psycopg2/__init__.py:144: UserWarning: The psycopg2 wheel package will be renamed from release 2.8; in order to keep installing from binary please use \"pip install psycopg2-binary\" instead. For details see: <http://initd.org/psycopg/docs/install.html#binary-install-from-pypi>.\n",
      "  \"\"\")\n"
     ]
    }
   ],
   "source": [
    "import pandas\n",
    "import configparser\n",
    "import psycopg2"
   ]
  },
  {
   "cell_type": "markdown",
   "id": "e6df8c91",
   "metadata": {},
   "source": [
    "# connect to the db and create a cursor "
   ]
  },
  {
   "cell_type": "code",
   "execution_count": 3,
   "id": "2600d278",
   "metadata": {},
   "outputs": [],
   "source": [
    "config = configparser.ConfigParser()\n",
    "config.read('config.ini')\n",
    "\n",
    "host=config['myaws']['host']\n",
    "db=config['myaws']['db']\n",
    "user=config['myaws']['user']\n",
    "pwd = config['myaws']['pwd']\n",
    "\n",
    "conn = psycopg2.connect(  host=host,\n",
    "                       user=user,\n",
    "                       password = pwd,\n",
    "                       dbname=db)"
   ]
  },
  {
   "cell_type": "code",
   "execution_count": 4,
   "id": "c9f9fd16",
   "metadata": {},
   "outputs": [],
   "source": [
    "cur=conn.cursor()"
   ]
  },
  {
   "cell_type": "markdown",
   "id": "966d4165",
   "metadata": {},
   "source": [
    "# q1-4\n",
    "1. define yoru sql\n",
    "2. pass the sql to pandas, load the data into dataframe\n",
    "3. use dataframe to display the table or show the chart"
   ]
  },
  {
   "cell_type": "markdown",
   "id": "f2a28bd7",
   "metadata": {},
   "source": [
    "## q1"
   ]
  },
  {
   "cell_type": "code",
   "execution_count": 31,
   "id": "6d94391c",
   "metadata": {},
   "outputs": [],
   "source": [
    "q1_sql = \"\"\"\n",
    "        select * from demo.student\n",
    "        \"\"\""
   ]
  },
  {
   "cell_type": "code",
   "execution_count": 32,
   "id": "f7bfaf6a",
   "metadata": {},
   "outputs": [
    {
     "data": {
      "text/html": [
       "<div>\n",
       "<style scoped>\n",
       "    .dataframe tbody tr th:only-of-type {\n",
       "        vertical-align: middle;\n",
       "    }\n",
       "\n",
       "    .dataframe tbody tr th {\n",
       "        vertical-align: top;\n",
       "    }\n",
       "\n",
       "    .dataframe thead th {\n",
       "        text-align: right;\n",
       "    }\n",
       "</style>\n",
       "<table border=\"1\" class=\"dataframe\">\n",
       "  <thead>\n",
       "    <tr style=\"text-align: right;\">\n",
       "      <th></th>\n",
       "      <th>s_email</th>\n",
       "      <th>s_name</th>\n",
       "      <th>major</th>\n",
       "    </tr>\n",
       "  </thead>\n",
       "  <tbody>\n",
       "    <tr>\n",
       "      <th>0</th>\n",
       "      <td>s1@jmu.edu</td>\n",
       "      <td>s1</td>\n",
       "      <td>m1</td>\n",
       "    </tr>\n",
       "    <tr>\n",
       "      <th>1</th>\n",
       "      <td>s2@jmu.edu</td>\n",
       "      <td>s2</td>\n",
       "      <td>m2</td>\n",
       "    </tr>\n",
       "    <tr>\n",
       "      <th>2</th>\n",
       "      <td>s3@jmu.edu</td>\n",
       "      <td>s3</td>\n",
       "      <td>m1</td>\n",
       "    </tr>\n",
       "    <tr>\n",
       "      <th>3</th>\n",
       "      <td>s4@jmu.edu</td>\n",
       "      <td>s4</td>\n",
       "      <td>m2</td>\n",
       "    </tr>\n",
       "    <tr>\n",
       "      <th>4</th>\n",
       "      <td>s5@jmu.edu</td>\n",
       "      <td>s5</td>\n",
       "      <td>ia</td>\n",
       "    </tr>\n",
       "    <tr>\n",
       "      <th>5</th>\n",
       "      <td>s6@jmu.edu</td>\n",
       "      <td>s6</td>\n",
       "      <td>ia</td>\n",
       "    </tr>\n",
       "    <tr>\n",
       "      <th>6</th>\n",
       "      <td>s23@jmu.edu</td>\n",
       "      <td>s5</td>\n",
       "      <td>ia</td>\n",
       "    </tr>\n",
       "  </tbody>\n",
       "</table>\n",
       "</div>"
      ],
      "text/plain": [
       "       s_email s_name major\n",
       "0   s1@jmu.edu     s1    m1\n",
       "1   s2@jmu.edu     s2    m2\n",
       "2   s3@jmu.edu     s3    m1\n",
       "3   s4@jmu.edu     s4    m2\n",
       "4   s5@jmu.edu     s5    ia\n",
       "5   s6@jmu.edu     s6    ia\n",
       "6  s23@jmu.edu     s5    ia"
      ]
     },
     "execution_count": 32,
     "metadata": {},
     "output_type": "execute_result"
    }
   ],
   "source": [
    "df=pandas.read_sql_query(q1_sql,conn)\n",
    "df[:]"
   ]
  },
  {
   "cell_type": "markdown",
   "id": "e120ae59",
   "metadata": {},
   "source": [
    "## q2\n",
    "join the professor tabel with the course table"
   ]
  },
  {
   "cell_type": "code",
   "execution_count": 8,
   "id": "00485127",
   "metadata": {},
   "outputs": [],
   "source": [
    "q2_sql = \"\"\"\n",
    "        select demo.professor.p_name,\n",
    "        demo.course.c_name\n",
    "        from demo.professor\n",
    "        inner join demo.course\n",
    "        on demo.professor.p_email = demo.course.p_email\n",
    "        \"\"\""
   ]
  },
  {
   "cell_type": "code",
   "execution_count": 9,
   "id": "873bb6c4",
   "metadata": {},
   "outputs": [
    {
     "data": {
      "text/html": [
       "<div>\n",
       "<style scoped>\n",
       "    .dataframe tbody tr th:only-of-type {\n",
       "        vertical-align: middle;\n",
       "    }\n",
       "\n",
       "    .dataframe tbody tr th {\n",
       "        vertical-align: top;\n",
       "    }\n",
       "\n",
       "    .dataframe thead th {\n",
       "        text-align: right;\n",
       "    }\n",
       "</style>\n",
       "<table border=\"1\" class=\"dataframe\">\n",
       "  <thead>\n",
       "    <tr style=\"text-align: right;\">\n",
       "      <th></th>\n",
       "      <th>p_name</th>\n",
       "      <th>c_name</th>\n",
       "    </tr>\n",
       "  </thead>\n",
       "  <tbody>\n",
       "    <tr>\n",
       "      <th>0</th>\n",
       "      <td>t2</td>\n",
       "      <td>cn3</td>\n",
       "    </tr>\n",
       "    <tr>\n",
       "      <th>1</th>\n",
       "      <td>t3</td>\n",
       "      <td>cn4</td>\n",
       "    </tr>\n",
       "    <tr>\n",
       "      <th>2</th>\n",
       "      <td>p_new_n</td>\n",
       "      <td>c_new_name</td>\n",
       "    </tr>\n",
       "    <tr>\n",
       "      <th>3</th>\n",
       "      <td>p_new_n</td>\n",
       "      <td>cn1</td>\n",
       "    </tr>\n",
       "    <tr>\n",
       "      <th>4</th>\n",
       "      <td>p_new_n</td>\n",
       "      <td>cn2</td>\n",
       "    </tr>\n",
       "  </tbody>\n",
       "</table>\n",
       "</div>"
      ],
      "text/plain": [
       "    p_name      c_name\n",
       "0       t2         cn3\n",
       "1       t3         cn4\n",
       "2  p_new_n  c_new_name\n",
       "3  p_new_n         cn1\n",
       "4  p_new_n         cn2"
      ]
     },
     "execution_count": 9,
     "metadata": {},
     "output_type": "execute_result"
    }
   ],
   "source": [
    "df=pandas.read_sql_query(q2_sql,conn)\n",
    "df[:]"
   ]
  },
  {
   "cell_type": "markdown",
   "id": "6c41e5be",
   "metadata": {},
   "source": [
    "## q3\n",
    "Count the number of records per course, then use pandas to create a bar chart"
   ]
  },
  {
   "cell_type": "code",
   "execution_count": 14,
   "id": "6e0378bf",
   "metadata": {},
   "outputs": [],
   "source": [
    "q3_sql = \"\"\"\n",
    "        select c_number,\n",
    "        count(c_number) as num_enroll\n",
    "        from demo.enroll_list\n",
    "        group by c_number\n",
    "        \"\"\""
   ]
  },
  {
   "cell_type": "code",
   "execution_count": 15,
   "id": "485f4d64",
   "metadata": {},
   "outputs": [
    {
     "data": {
      "text/html": [
       "<div>\n",
       "<style scoped>\n",
       "    .dataframe tbody tr th:only-of-type {\n",
       "        vertical-align: middle;\n",
       "    }\n",
       "\n",
       "    .dataframe tbody tr th {\n",
       "        vertical-align: top;\n",
       "    }\n",
       "\n",
       "    .dataframe thead th {\n",
       "        text-align: right;\n",
       "    }\n",
       "</style>\n",
       "<table border=\"1\" class=\"dataframe\">\n",
       "  <thead>\n",
       "    <tr style=\"text-align: right;\">\n",
       "      <th></th>\n",
       "      <th>c_number</th>\n",
       "      <th>num_enroll</th>\n",
       "    </tr>\n",
       "  </thead>\n",
       "  <tbody>\n",
       "    <tr>\n",
       "      <th>0</th>\n",
       "      <td>c4</td>\n",
       "      <td>2</td>\n",
       "    </tr>\n",
       "    <tr>\n",
       "      <th>1</th>\n",
       "      <td>c2</td>\n",
       "      <td>3</td>\n",
       "    </tr>\n",
       "    <tr>\n",
       "      <th>2</th>\n",
       "      <td>c3</td>\n",
       "      <td>1</td>\n",
       "    </tr>\n",
       "    <tr>\n",
       "      <th>3</th>\n",
       "      <td>c1</td>\n",
       "      <td>4</td>\n",
       "    </tr>\n",
       "  </tbody>\n",
       "</table>\n",
       "</div>"
      ],
      "text/plain": [
       "  c_number  num_enroll\n",
       "0       c4           2\n",
       "1       c2           3\n",
       "2       c3           1\n",
       "3       c1           4"
      ]
     },
     "execution_count": 15,
     "metadata": {},
     "output_type": "execute_result"
    }
   ],
   "source": [
    "df=pandas.read_sql_query(q3_sql,conn)\n",
    "df[:]"
   ]
  },
  {
   "cell_type": "code",
   "execution_count": 16,
   "id": "75476850",
   "metadata": {},
   "outputs": [
    {
     "data": {
      "text/plain": [
       "<AxesSubplot:xlabel='c_number'>"
      ]
     },
     "execution_count": 16,
     "metadata": {},
     "output_type": "execute_result"
    },
    {
     "data": {
      "image/png": "[encoded data removed]",
      "text/plain": [
       "<Figure size 432x288 with 1 Axes>"
      ]
     },
     "metadata": {
      "needs_background": "light"
     },
     "output_type": "display_data"
    }
   ],
   "source": [
    "df.plot.bar(x='c_number',y='num_enroll')"
   ]
  },
  {
   "cell_type": "markdown",
   "id": "4a1c08de",
   "metadata": {},
   "source": [
    "## q4\n",
    "1. joint the professor with the course table\n",
    "2. count the number of course per professor\n",
    "3. create a bar chart"
   ]
  },
  {
   "cell_type": "code",
   "execution_count": 17,
   "id": "6bb03382",
   "metadata": {},
   "outputs": [],
   "source": [
    "q4_sql = \"\"\"\n",
    "        select demo.professor.p_name,\n",
    "        count(demo.course.c_name) as num_course\n",
    "        from demo.professor\n",
    "        inner join demo.course\n",
    "        on demo.professor.p_email = demo.course.p_email\n",
    "        group by demo.professor.p_name\n",
    "        \"\"\""
   ]
  },
  {
   "cell_type": "code",
   "execution_count": 18,
   "id": "fcf32e80",
   "metadata": {},
   "outputs": [
    {
     "data": {
      "text/html": [
       "<div>\n",
       "<style scoped>\n",
       "    .dataframe tbody tr th:only-of-type {\n",
       "        vertical-align: middle;\n",
       "    }\n",
       "\n",
       "    .dataframe tbody tr th {\n",
       "        vertical-align: top;\n",
       "    }\n",
       "\n",
       "    .dataframe thead th {\n",
       "        text-align: right;\n",
       "    }\n",
       "</style>\n",
       "<table border=\"1\" class=\"dataframe\">\n",
       "  <thead>\n",
       "    <tr style=\"text-align: right;\">\n",
       "      <th></th>\n",
       "      <th>p_name</th>\n",
       "      <th>num_course</th>\n",
       "    </tr>\n",
       "  </thead>\n",
       "  <tbody>\n",
       "    <tr>\n",
       "      <th>0</th>\n",
       "      <td>p_new_n</td>\n",
       "      <td>3</td>\n",
       "    </tr>\n",
       "    <tr>\n",
       "      <th>1</th>\n",
       "      <td>t2</td>\n",
       "      <td>1</td>\n",
       "    </tr>\n",
       "    <tr>\n",
       "      <th>2</th>\n",
       "      <td>t3</td>\n",
       "      <td>1</td>\n",
       "    </tr>\n",
       "  </tbody>\n",
       "</table>\n",
       "</div>"
      ],
      "text/plain": [
       "    p_name  num_course\n",
       "0  p_new_n           3\n",
       "1       t2           1\n",
       "2       t3           1"
      ]
     },
     "execution_count": 18,
     "metadata": {},
     "output_type": "execute_result"
    }
   ],
   "source": [
    "df=pandas.read_sql_query(q4_sql,conn)\n",
    "df[:]"
   ]
  },
  {
   "cell_type": "code",
   "execution_count": 19,
   "id": "784f022e",
   "metadata": {},
   "outputs": [
    {
     "data": {
      "text/plain": [
       "<AxesSubplot:xlabel='p_name'>"
      ]
     },
     "execution_count": 19,
     "metadata": {},
     "output_type": "execute_result"
    },
    {
     "data": {
      "image/png": "[encoded data removed]",
      "text/plain": [
       "<Figure size 432x288 with 1 Axes>"
      ]
     },
     "metadata": {
      "needs_background": "light"
     },
     "output_type": "display_data"
    }
   ],
   "source": [
    "df.plot.bar(x='p_name',y='num_course')"
   ]
  },
  {
   "cell_type": "markdown",
   "id": "b1374326",
   "metadata": {},
   "source": [
    "# q5-6\n",
    "1. define your sql\n",
    "2. use coursor to execute your sql\n",
    "3. if no error, commit your chagne\n",
    "4. if has error, roll back, and go back to 1. \n",
    "5. use pandas to dispaly the modified table"
   ]
  },
  {
   "cell_type": "markdown",
   "id": "22824a51",
   "metadata": {},
   "source": [
    "## q5"
   ]
  },
  {
   "cell_type": "markdown",
   "id": "1d3f92b0",
   "metadata": {},
   "source": [
    "change the professor table"
   ]
  },
  {
   "cell_type": "code",
   "execution_count": 56,
   "id": "4328799a",
   "metadata": {},
   "outputs": [
    {
     "name": "stdout",
     "output_type": "stream",
     "text": [
      "\n",
      "            insert into demo.professor(p_email,p_name,p_office)\n",
      "            values('new_lab4_email','new_p_lab4_name','new_lab4_o')\n",
      "            \n"
     ]
    }
   ],
   "source": [
    "q5_insert_professor_sql = \"\"\"\n",
    "            insert into demo.professor(p_email,p_name,p_office)\n",
    "            values('{}','{}','{}')\n",
    "            \"\"\".format('new_lab4_email','new_p_lab4_name','new_lab4_o')\n",
    "print(q5_insert_professor_sql)"
   ]
  },
  {
   "cell_type": "code",
   "execution_count": 37,
   "id": "b29fe6bc",
   "metadata": {},
   "outputs": [],
   "source": [
    "cur.execute(q5_insert_professor_sql)"
   ]
  },
  {
   "cell_type": "code",
   "execution_count": 62,
   "id": "22097376",
   "metadata": {},
   "outputs": [],
   "source": [
    "# conn.rollback() #if error, rollback"
   ]
  },
  {
   "cell_type": "code",
   "execution_count": 39,
   "id": "1ce919d8",
   "metadata": {},
   "outputs": [],
   "source": [
    "conn.commit() # no error. commit"
   ]
  },
  {
   "cell_type": "code",
   "execution_count": 40,
   "id": "45206617",
   "metadata": {},
   "outputs": [
    {
     "data": {
      "text/html": [
       "<div>\n",
       "<style scoped>\n",
       "    .dataframe tbody tr th:only-of-type {\n",
       "        vertical-align: middle;\n",
       "    }\n",
       "\n",
       "    .dataframe tbody tr th {\n",
       "        vertical-align: top;\n",
       "    }\n",
       "\n",
       "    .dataframe thead th {\n",
       "        text-align: right;\n",
       "    }\n",
       "</style>\n",
       "<table border=\"1\" class=\"dataframe\">\n",
       "  <thead>\n",
       "    <tr style=\"text-align: right;\">\n",
       "      <th></th>\n",
       "      <th>p_email</th>\n",
       "      <th>p_name</th>\n",
       "      <th>p_office</th>\n",
       "    </tr>\n",
       "  </thead>\n",
       "  <tbody>\n",
       "    <tr>\n",
       "      <th>0</th>\n",
       "      <td>t2@jmu.edu</td>\n",
       "      <td>t2</td>\n",
       "      <td>o2</td>\n",
       "    </tr>\n",
       "    <tr>\n",
       "      <th>1</th>\n",
       "      <td>t3@jmu.edu</td>\n",
       "      <td>t3</td>\n",
       "      <td>o3</td>\n",
       "    </tr>\n",
       "    <tr>\n",
       "      <th>2</th>\n",
       "      <td>t4@jmu.edu</td>\n",
       "      <td>t4</td>\n",
       "      <td>04</td>\n",
       "    </tr>\n",
       "    <tr>\n",
       "      <th>3</th>\n",
       "      <td>p_new_e</td>\n",
       "      <td>p_new_n</td>\n",
       "      <td>p_new_o</td>\n",
       "    </tr>\n",
       "    <tr>\n",
       "      <th>4</th>\n",
       "      <td>new_lab4_email</td>\n",
       "      <td>new_p_lab4_name</td>\n",
       "      <td>new_lab4_o</td>\n",
       "    </tr>\n",
       "  </tbody>\n",
       "</table>\n",
       "</div>"
      ],
      "text/plain": [
       "          p_email           p_name    p_office\n",
       "0      t2@jmu.edu               t2          o2\n",
       "1      t3@jmu.edu               t3          o3\n",
       "2      t4@jmu.edu               t4          04\n",
       "3         p_new_e          p_new_n     p_new_o\n",
       "4  new_lab4_email  new_p_lab4_name  new_lab4_o"
      ]
     },
     "execution_count": 40,
     "metadata": {},
     "output_type": "execute_result"
    }
   ],
   "source": [
    "df=pandas.read_sql_query('select * from demo.professor',conn)\n",
    "df[:]"
   ]
  },
  {
   "cell_type": "markdown",
   "id": "f0d86204",
   "metadata": {},
   "source": [
    "change the course table"
   ]
  },
  {
   "cell_type": "code",
   "execution_count": 57,
   "id": "5bca417d",
   "metadata": {},
   "outputs": [
    {
     "name": "stdout",
     "output_type": "stream",
     "text": [
      "\n",
      "            insert into demo.course(c_number,c_name,c_room,p_email)\n",
      "            values('new_lab4_c','new_lab4_n','new_lab4_r','new_lab4_email')\n",
      "            \n"
     ]
    }
   ],
   "source": [
    "q5_insert_course_sql = \"\"\"\n",
    "            insert into demo.course(c_number,c_name,c_room,p_email)\n",
    "            values('{}','{}','{}','{}')\n",
    "            \"\"\".format('new_lab4_c','new_lab4_n','new_lab4_r','new_lab4_email')\n",
    "print(q5_insert_course_sql)"
   ]
  },
  {
   "cell_type": "code",
   "execution_count": 53,
   "id": "921af6d4",
   "metadata": {},
   "outputs": [],
   "source": [
    "cur.execute(q5_insert_course_sql)"
   ]
  },
  {
   "cell_type": "code",
   "execution_count": 54,
   "id": "51312faa",
   "metadata": {},
   "outputs": [],
   "source": [
    "conn.commit() # no error. commit"
   ]
  },
  {
   "cell_type": "code",
   "execution_count": 55,
   "id": "c367621c",
   "metadata": {},
   "outputs": [
    {
     "data": {
      "text/html": [
       "<div>\n",
       "<style scoped>\n",
       "    .dataframe tbody tr th:only-of-type {\n",
       "        vertical-align: middle;\n",
       "    }\n",
       "\n",
       "    .dataframe tbody tr th {\n",
       "        vertical-align: top;\n",
       "    }\n",
       "\n",
       "    .dataframe thead th {\n",
       "        text-align: right;\n",
       "    }\n",
       "</style>\n",
       "<table border=\"1\" class=\"dataframe\">\n",
       "  <thead>\n",
       "    <tr style=\"text-align: right;\">\n",
       "      <th></th>\n",
       "      <th>c_number</th>\n",
       "      <th>c_name</th>\n",
       "      <th>c_room</th>\n",
       "      <th>p_email</th>\n",
       "    </tr>\n",
       "  </thead>\n",
       "  <tbody>\n",
       "    <tr>\n",
       "      <th>0</th>\n",
       "      <td>c3</td>\n",
       "      <td>cn3</td>\n",
       "      <td>r3</td>\n",
       "      <td>t2@jmu.edu</td>\n",
       "    </tr>\n",
       "    <tr>\n",
       "      <th>1</th>\n",
       "      <td>c4</td>\n",
       "      <td>cn4</td>\n",
       "      <td>r4</td>\n",
       "      <td>t3@jmu.edu</td>\n",
       "    </tr>\n",
       "    <tr>\n",
       "      <th>2</th>\n",
       "      <td>c_new_n</td>\n",
       "      <td>c_new_name</td>\n",
       "      <td>c_new_r</td>\n",
       "      <td>p_new_e</td>\n",
       "    </tr>\n",
       "    <tr>\n",
       "      <th>3</th>\n",
       "      <td>c1</td>\n",
       "      <td>cn1</td>\n",
       "      <td>r1</td>\n",
       "      <td>p_new_e</td>\n",
       "    </tr>\n",
       "    <tr>\n",
       "      <th>4</th>\n",
       "      <td>c2</td>\n",
       "      <td>cn2</td>\n",
       "      <td>r2</td>\n",
       "      <td>p_new_e</td>\n",
       "    </tr>\n",
       "    <tr>\n",
       "      <th>5</th>\n",
       "      <td>new_lab4_c</td>\n",
       "      <td>new_lab4_n</td>\n",
       "      <td>new_lab4_r</td>\n",
       "      <td>new_lab4_email</td>\n",
       "    </tr>\n",
       "  </tbody>\n",
       "</table>\n",
       "</div>"
      ],
      "text/plain": [
       "     c_number      c_name      c_room         p_email\n",
       "0          c3         cn3          r3      t2@jmu.edu\n",
       "1          c4         cn4          r4      t3@jmu.edu\n",
       "2     c_new_n  c_new_name     c_new_r         p_new_e\n",
       "3          c1         cn1          r1         p_new_e\n",
       "4          c2         cn2          r2         p_new_e\n",
       "5  new_lab4_c  new_lab4_n  new_lab4_r  new_lab4_email"
      ]
     },
     "execution_count": 55,
     "metadata": {},
     "output_type": "execute_result"
    }
   ],
   "source": [
    "df=pandas.read_sql_query('select * from demo.course',conn)\n",
    "df[:]"
   ]
  },
  {
   "cell_type": "markdown",
   "id": "42bcea3e",
   "metadata": {},
   "source": [
    "## q6"
   ]
  },
  {
   "cell_type": "markdown",
   "id": "acbd1282",
   "metadata": {},
   "source": [
    "udpate the course table"
   ]
  },
  {
   "cell_type": "code",
   "execution_count": 61,
   "id": "e871c5e7",
   "metadata": {},
   "outputs": [],
   "source": [
    "q6_update_course_sql =\"\"\"\n",
    "                    update demo.course\n",
    "                    set p_email = '{}'\n",
    "                    where p_email ='{}'\n",
    "                    \"\"\".format('new_lab4_email','t2@jmu.edu')"
   ]
  },
  {
   "cell_type": "code",
   "execution_count": 63,
   "id": "05ef23dd",
   "metadata": {},
   "outputs": [],
   "source": [
    "cur.execute(q6_update_course_sql)"
   ]
  },
  {
   "cell_type": "code",
   "execution_count": 64,
   "id": "8cd8c890",
   "metadata": {},
   "outputs": [],
   "source": [
    "conn.commit() # no error. commit"
   ]
  },
  {
   "cell_type": "code",
   "execution_count": 65,
   "id": "4dad86b0",
   "metadata": {},
   "outputs": [
    {
     "data": {
      "text/html": [
       "<div>\n",
       "<style scoped>\n",
       "    .dataframe tbody tr th:only-of-type {\n",
       "        vertical-align: middle;\n",
       "    }\n",
       "\n",
       "    .dataframe tbody tr th {\n",
       "        vertical-align: top;\n",
       "    }\n",
       "\n",
       "    .dataframe thead th {\n",
       "        text-align: right;\n",
       "    }\n",
       "</style>\n",
       "<table border=\"1\" class=\"dataframe\">\n",
       "  <thead>\n",
       "    <tr style=\"text-align: right;\">\n",
       "      <th></th>\n",
       "      <th>c_number</th>\n",
       "      <th>c_name</th>\n",
       "      <th>c_room</th>\n",
       "      <th>p_email</th>\n",
       "    </tr>\n",
       "  </thead>\n",
       "  <tbody>\n",
       "    <tr>\n",
       "      <th>0</th>\n",
       "      <td>c4</td>\n",
       "      <td>cn4</td>\n",
       "      <td>r4</td>\n",
       "      <td>t3@jmu.edu</td>\n",
       "    </tr>\n",
       "    <tr>\n",
       "      <th>1</th>\n",
       "      <td>c_new_n</td>\n",
       "      <td>c_new_name</td>\n",
       "      <td>c_new_r</td>\n",
       "      <td>p_new_e</td>\n",
       "    </tr>\n",
       "    <tr>\n",
       "      <th>2</th>\n",
       "      <td>c1</td>\n",
       "      <td>cn1</td>\n",
       "      <td>r1</td>\n",
       "      <td>p_new_e</td>\n",
       "    </tr>\n",
       "    <tr>\n",
       "      <th>3</th>\n",
       "      <td>c2</td>\n",
       "      <td>cn2</td>\n",
       "      <td>r2</td>\n",
       "      <td>p_new_e</td>\n",
       "    </tr>\n",
       "    <tr>\n",
       "      <th>4</th>\n",
       "      <td>new_lab4_c</td>\n",
       "      <td>new_lab4_n</td>\n",
       "      <td>new_lab4_r</td>\n",
       "      <td>new_lab4_email</td>\n",
       "    </tr>\n",
       "    <tr>\n",
       "      <th>5</th>\n",
       "      <td>c3</td>\n",
       "      <td>cn3</td>\n",
       "      <td>r3</td>\n",
       "      <td>new_lab4_email</td>\n",
       "    </tr>\n",
       "  </tbody>\n",
       "</table>\n",
       "</div>"
      ],
      "text/plain": [
       "     c_number      c_name      c_room         p_email\n",
       "0          c4         cn4          r4      t3@jmu.edu\n",
       "1     c_new_n  c_new_name     c_new_r         p_new_e\n",
       "2          c1         cn1          r1         p_new_e\n",
       "3          c2         cn2          r2         p_new_e\n",
       "4  new_lab4_c  new_lab4_n  new_lab4_r  new_lab4_email\n",
       "5          c3         cn3          r3  new_lab4_email"
      ]
     },
     "execution_count": 65,
     "metadata": {},
     "output_type": "execute_result"
    }
   ],
   "source": [
    "df=pandas.read_sql_query('select * from demo.course',conn)\n",
    "df[:]"
   ]
  },
  {
   "cell_type": "markdown",
   "id": "b3770a0b",
   "metadata": {},
   "source": [
    "delete the professor"
   ]
  },
  {
   "cell_type": "code",
   "execution_count": 66,
   "id": "6a1788cf",
   "metadata": {},
   "outputs": [],
   "source": [
    "q6_delete_professor_sql = \"\"\"\n",
    "                            delete from demo.professor\n",
    "                            where p_email='{}'\n",
    "                            \"\"\".format('t2@jmu.edu')"
   ]
  },
  {
   "cell_type": "code",
   "execution_count": 67,
   "id": "6d0e09c6",
   "metadata": {},
   "outputs": [],
   "source": [
    "cur.execute(q6_delete_professor_sql)"
   ]
  },
  {
   "cell_type": "code",
   "execution_count": 68,
   "id": "24ec824b",
   "metadata": {},
   "outputs": [],
   "source": [
    "conn.commit() # no error. commit"
   ]
  },
  {
   "cell_type": "code",
   "execution_count": 69,
   "id": "7ef90920",
   "metadata": {},
   "outputs": [
    {
     "data": {
      "text/html": [
       "<div>\n",
       "<style scoped>\n",
       "    .dataframe tbody tr th:only-of-type {\n",
       "        vertical-align: middle;\n",
       "    }\n",
       "\n",
       "    .dataframe tbody tr th {\n",
       "        vertical-align: top;\n",
       "    }\n",
       "\n",
       "    .dataframe thead th {\n",
       "        text-align: right;\n",
       "    }\n",
       "</style>\n",
       "<table border=\"1\" class=\"dataframe\">\n",
       "  <thead>\n",
       "    <tr style=\"text-align: right;\">\n",
       "      <th></th>\n",
       "      <th>p_email</th>\n",
       "      <th>p_name</th>\n",
       "      <th>p_office</th>\n",
       "    </tr>\n",
       "  </thead>\n",
       "  <tbody>\n",
       "    <tr>\n",
       "      <th>0</th>\n",
       "      <td>t3@jmu.edu</td>\n",
       "      <td>t3</td>\n",
       "      <td>o3</td>\n",
       "    </tr>\n",
       "    <tr>\n",
       "      <th>1</th>\n",
       "      <td>t4@jmu.edu</td>\n",
       "      <td>t4</td>\n",
       "      <td>04</td>\n",
       "    </tr>\n",
       "    <tr>\n",
       "      <th>2</th>\n",
       "      <td>p_new_e</td>\n",
       "      <td>p_new_n</td>\n",
       "      <td>p_new_o</td>\n",
       "    </tr>\n",
       "    <tr>\n",
       "      <th>3</th>\n",
       "      <td>new_lab4_email</td>\n",
       "      <td>new_p_lab4_name</td>\n",
       "      <td>new_lab4_o</td>\n",
       "    </tr>\n",
       "  </tbody>\n",
       "</table>\n",
       "</div>"
      ],
      "text/plain": [
       "          p_email           p_name    p_office\n",
       "0      t3@jmu.edu               t3          o3\n",
       "1      t4@jmu.edu               t4          04\n",
       "2         p_new_e          p_new_n     p_new_o\n",
       "3  new_lab4_email  new_p_lab4_name  new_lab4_o"
      ]
     },
     "execution_count": 69,
     "metadata": {},
     "output_type": "execute_result"
    }
   ],
   "source": [
    "df=pandas.read_sql_query('select * from demo.professor',conn)\n",
    "df[:]"
   ]
  },
  {
   "cell_type": "markdown",
   "id": "2d29e6e3",
   "metadata": {},
   "source": [
    "# close the cursor and connnection "
   ]
  },
  {
   "cell_type": "code",
   "execution_count": 5,
   "id": "13083d63",
   "metadata": {},
   "outputs": [],
   "source": [
    "cur.close()"
   ]
  },
  {
   "cell_type": "code",
   "execution_count": 6,
   "id": "3cff92b3",
   "metadata": {},
   "outputs": [],
   "source": [
    "conn.close()"
   ]
  },
  {
   "cell_type": "code",
   "execution_count": null,
   "id": "20838777",
   "metadata": {},
   "outputs": [],
   "source": []
  }
 ],
 "metadata": {
  "kernelspec": {
   "display_name": "conda_python3",
   "language": "python",
   "name": "conda_python3"
  },
  "language_info": {
   "codemirror_mode": {
    "name": "ipython",
    "version": 3
   },
   "file_extension": ".py",
   "mimetype": "text/x-python",
   "name": "python",
   "nbconvert_exporter": "python",
   "pygments_lexer": "ipython3",
   "version": "3.6.13"
  }
 },
 "nbformat": 4,
 "nbformat_minor": 5
}
