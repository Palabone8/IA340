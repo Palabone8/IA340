{
 "cells": [
  {
   "cell_type": "code",
   "execution_count": 1,
   "id": "253a245d",
   "metadata": {},
   "outputs": [
    {
     "name": "stdout",
     "output_type": "stream",
     "text": [
      "-1\n"
     ]
    }
   ],
   "source": [
    "if None:\n",
    "    print('none')\n",
    "elif 0:\n",
    "    print(0)\n",
    "elif \"\":\n",
    "    print(\"\")\n",
    "elif -1:\n",
    "    print(-1)"
   ]
  },
  {
   "cell_type": "code",
   "execution_count": 2,
   "id": "4b991496",
   "metadata": {},
   "outputs": [
    {
     "name": "stdout",
     "output_type": "stream",
     "text": [
      "True\n"
     ]
    }
   ],
   "source": [
    "print('hello' in 'hello world')"
   ]
  },
  {
   "cell_type": "code",
   "execution_count": 3,
   "id": "98b06766",
   "metadata": {},
   "outputs": [
    {
     "name": "stdout",
     "output_type": "stream",
     "text": [
      "['hello', 'world']\n"
     ]
    }
   ],
   "source": [
    "print('hello,world'.split(','))"
   ]
  },
  {
   "cell_type": "code",
   "execution_count": 4,
   "id": "f33a76b9",
   "metadata": {},
   "outputs": [
    {
     "name": "stdout",
     "output_type": "stream",
     "text": [
      "test\n"
     ]
    }
   ],
   "source": [
    "print('test   '.strip())"
   ]
  },
  {
   "cell_type": "code",
   "execution_count": 5,
   "id": "a22da77a",
   "metadata": {},
   "outputs": [],
   "source": [
    "url ='http://ia-340-2021-fall-wei-demo.s3-website-us-east-1.amazonaws.com/'"
   ]
  },
  {
   "cell_type": "code",
   "execution_count": 6,
   "id": "f1c52ad4",
   "metadata": {
    "scrolled": false
   },
   "outputs": [
    {
     "name": "stdout",
     "output_type": "stream",
     "text": [
      "<!DOCTYPE html>\n",
      "\n",
      "<html>\n",
      "    \n",
      "    <head>\n",
      "        <title>ia 340</title>\n",
      "        <style>\n",
      "            div.div_style{\n",
      "            background-color:black;\n",
      "                color:white;\n",
      "            }\n",
      "            span.span_style{\n",
      "            color:red;\n",
      "            }\n",
      "            </style>\n",
      "        </head>\n",
      "    <body>\n",
      "        \n",
      "        <h1> data mining class </h1>\n",
      "             <p> instructor:Xuebin Wei</p>\n",
      "            <p>website<a href=\"http://www.lbsocial.com\">lbsocial</a></p>\n",
      "            <img src=\"logo_ia340.png\">\n",
      "        \n",
      "        \n",
      "        <div id=\"div1\" class=\"div_style\">\n",
      "  \n",
      "            <h2> goal of this class</h2>\n",
      "             <ul>\n",
      "                <li> databases</li>\n",
      "                <li> sql</li>\n",
      "                 </ul>\n",
      "            </div>\n",
      "        \n",
      "        \n",
      "        <div id=\"div2\">\n",
      "            <h2>scheudle</h2>\n",
      "            <table border=\"1\">\n",
      "                <tr>\n",
      "                    <th>date</th>\n",
      "                    <th>content</th>\n",
      "                    </tr>\n",
      "                <tr>\n",
      "                    <td>day1</td>\n",
      "                    <td>topic1</td>\n",
      "                </tr>\n",
      "                 <tr>\n",
      "                    <td>day2</td>\n",
      "                    <td>topic2</td>\n",
      "                </tr> \n",
      "                \n",
      "                </table>\n",
      "            </div>\n",
      "        \n",
      "        </body>\n",
      "    \n",
      "    </html>\n"
     ]
    }
   ],
   "source": [
    "import urllib.request\n",
    "response = urllib.request.urlopen(url)\n",
    "html_data = response.read()\n",
    "print(html_data.decode('utf-8'))"
   ]
  },
  {
   "cell_type": "code",
   "execution_count": 7,
   "id": "180a3255",
   "metadata": {},
   "outputs": [
    {
     "name": "stdout",
     "output_type": "stream",
     "text": [
      "Requirement already satisfied: beautifulsoup4 in /home/ec2-user/anaconda3/envs/python3/lib/python3.6/site-packages (4.9.3)\n",
      "Requirement already satisfied: soupsieve>1.2 in /home/ec2-user/anaconda3/envs/python3/lib/python3.6/site-packages (from beautifulsoup4) (2.0.1)\n"
     ]
    }
   ],
   "source": [
    "!pip install beautifulsoup4"
   ]
  },
  {
   "cell_type": "code",
   "execution_count": 8,
   "id": "6d337c17",
   "metadata": {},
   "outputs": [
    {
     "name": "stdout",
     "output_type": "stream",
     "text": [
      "<!DOCTYPE html>\n",
      "\n",
      "<html>\n",
      "<head>\n",
      "<title>ia 340</title>\n",
      "<style>\n",
      "            div.div_style{\n",
      "            background-color:black;\n",
      "                color:white;\n",
      "            }\n",
      "            span.span_style{\n",
      "            color:red;\n",
      "            }\n",
      "            </style>\n",
      "</head>\n",
      "<body>\n",
      "<h1> data mining class </h1>\n",
      "<p> instructor:Xuebin Wei</p>\n",
      "<p>website<a href=\"http://www.lbsocial.com\">lbsocial</a></p>\n",
      "<img src=\"logo_ia340.png\"/>\n",
      "<div class=\"div_style\" id=\"div1\">\n",
      "<h2> goal of this class</h2>\n",
      "<ul>\n",
      "<li> databases</li>\n",
      "<li> sql</li>\n",
      "</ul>\n",
      "</div>\n",
      "<div id=\"div2\">\n",
      "<h2>scheudle</h2>\n",
      "<table border=\"1\">\n",
      "<tr>\n",
      "<th>date</th>\n",
      "<th>content</th>\n",
      "</tr>\n",
      "<tr>\n",
      "<td>day1</td>\n",
      "<td>topic1</td>\n",
      "</tr>\n",
      "<tr>\n",
      "<td>day2</td>\n",
      "<td>topic2</td>\n",
      "</tr>\n",
      "</table>\n",
      "</div>\n",
      "</body>\n",
      "</html>\n"
     ]
    }
   ],
   "source": [
    "from bs4 import BeautifulSoup\n",
    "soup=BeautifulSoup(html_data,'html.parser')\n",
    "print(soup)"
   ]
  },
  {
   "cell_type": "code",
   "execution_count": 12,
   "id": "900f5c10",
   "metadata": {},
   "outputs": [
    {
     "name": "stdout",
     "output_type": "stream",
     "text": [
      "<div class=\"div_style\" id=\"div1\">\n",
      "<h2> goal of this class</h2>\n",
      "<ul>\n",
      "<li> databases</li>\n",
      "<li> sql</li>\n",
      "</ul>\n",
      "</div>\n",
      "<div id=\"div2\">\n",
      "<h2>scheudle</h2>\n",
      "<table border=\"1\">\n",
      "<tr>\n",
      "<th>date</th>\n",
      "<th>content</th>\n",
      "</tr>\n",
      "<tr>\n",
      "<td>day1</td>\n",
      "<td>topic1</td>\n",
      "</tr>\n",
      "<tr>\n",
      "<td>day2</td>\n",
      "<td>topic2</td>\n",
      "</tr>\n",
      "</table>\n",
      "</div>\n"
     ]
    }
   ],
   "source": [
    "for div in soup.find_all('div'):\n",
    "    print(div)"
   ]
  },
  {
   "cell_type": "code",
   "execution_count": 13,
   "id": "17a76813",
   "metadata": {},
   "outputs": [
    {
     "name": "stdout",
     "output_type": "stream",
     "text": [
      "<div id=\"div2\">\n",
      "<h2>scheudle</h2>\n",
      "<table border=\"1\">\n",
      "<tr>\n",
      "<th>date</th>\n",
      "<th>content</th>\n",
      "</tr>\n",
      "<tr>\n",
      "<td>day1</td>\n",
      "<td>topic1</td>\n",
      "</tr>\n",
      "<tr>\n",
      "<td>day2</td>\n",
      "<td>topic2</td>\n",
      "</tr>\n",
      "</table>\n",
      "</div>\n"
     ]
    }
   ],
   "source": [
    "for div in soup.find_all('div',id=\"div2\"):\n",
    "    print(div)"
   ]
  },
  {
   "cell_type": "code",
   "execution_count": 14,
   "id": "eda9675e",
   "metadata": {},
   "outputs": [
    {
     "name": "stdout",
     "output_type": "stream",
     "text": [
      "<div class=\"div_style\" id=\"div1\">\n",
      "<h2> goal of this class</h2>\n",
      "<ul>\n",
      "<li> databases</li>\n",
      "<li> sql</li>\n",
      "</ul>\n",
      "</div>\n"
     ]
    }
   ],
   "source": [
    "for div in soup.find_all('div',class_=\"div_style\"):\n",
    "    print(div)"
   ]
  },
  {
   "cell_type": "code",
   "execution_count": 15,
   "id": "11bcf1cf",
   "metadata": {},
   "outputs": [
    {
     "name": "stdout",
     "output_type": "stream",
     "text": [
      "\n",
      " goal of this class\n",
      "\n",
      " databases\n",
      " sql\n",
      "\n",
      "\n"
     ]
    }
   ],
   "source": [
    "for div in soup.find_all('div',class_=\"div_style\"):\n",
    "    print(div.text)"
   ]
  },
  {
   "cell_type": "code",
   "execution_count": 16,
   "id": "fe7aaf7d",
   "metadata": {},
   "outputs": [
    {
     "name": "stdout",
     "output_type": "stream",
     "text": [
      "div2\n"
     ]
    }
   ],
   "source": [
    "for div in soup.find_all('div',id=\"div2\"):\n",
    "    print(div.get('id'))"
   ]
  },
  {
   "cell_type": "code",
   "execution_count": 17,
   "id": "ae924d46",
   "metadata": {},
   "outputs": [
    {
     "name": "stdout",
     "output_type": "stream",
     "text": [
      "div2\n"
     ]
    }
   ],
   "source": [
    "for div in soup.find_all('div',id=\"div2\"):\n",
    "    print(div['id'])"
   ]
  },
  {
   "cell_type": "code",
   "execution_count": 18,
   "id": "66d39da3",
   "metadata": {},
   "outputs": [
    {
     "name": "stdout",
     "output_type": "stream",
     "text": [
      "<li> databases</li>\n"
     ]
    }
   ],
   "source": [
    "for div in soup.find_all('div',class_=\"div_style\"):\n",
    "    print(div.li)"
   ]
  },
  {
   "cell_type": "code",
   "execution_count": 20,
   "id": "d4ec2bc4",
   "metadata": {},
   "outputs": [
    {
     "name": "stdout",
     "output_type": "stream",
     "text": [
      "<li> databases</li>\n",
      "<li> sql</li>\n"
     ]
    }
   ],
   "source": [
    "for div in soup.find_all('div',class_=\"div_style\"):\n",
    "    for li in div.find_all('li'):\n",
    "        print(li)"
   ]
  },
  {
   "cell_type": "code",
   "execution_count": 24,
   "id": "de89ae23",
   "metadata": {},
   "outputs": [
    {
     "name": "stdout",
     "output_type": "stream",
     "text": [
      "Xuebin Wei\n"
     ]
    }
   ],
   "source": [
    "for p in soup.find_all('p'):\n",
    "    if 'instructor' in p.text:\n",
    "        print(p.text.split(\":\")[1])"
   ]
  },
  {
   "cell_type": "code",
   "execution_count": 25,
   "id": "3eecb68d",
   "metadata": {},
   "outputs": [
    {
     "name": "stdout",
     "output_type": "stream",
     "text": [
      "http://www.lbsocial.com\n"
     ]
    }
   ],
   "source": [
    "for p in soup.find_all('p'):\n",
    "    for a in p.find_all('a'):\n",
    "        print(a['href'])"
   ]
  },
  {
   "cell_type": "code",
   "execution_count": null,
   "id": "b4c3e113",
   "metadata": {},
   "outputs": [],
   "source": []
  }
 ],
 "metadata": {
  "kernelspec": {
   "display_name": "conda_python3",
   "language": "python",
   "name": "conda_python3"
  },
  "language_info": {
   "codemirror_mode": {
    "name": "ipython",
    "version": 3
   },
   "file_extension": ".py",
   "mimetype": "text/x-python",
   "name": "python",
   "nbconvert_exporter": "python",
   "pygments_lexer": "ipython3",
   "version": "3.6.13"
  }
 },
 "nbformat": 4,
 "nbformat_minor": 5
}
