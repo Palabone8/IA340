{
 "cells": [
  {
   "cell_type": "code",
   "execution_count": 2,
   "id": "4ac47da7",
   "metadata": {},
   "outputs": [],
   "source": [
    "import pandas\n",
    "import configparser\n",
    "import psycopg2"
   ]
  },
  {
   "cell_type": "code",
   "execution_count": 3,
   "id": "bf4db530",
   "metadata": {},
   "outputs": [],
   "source": [
    "\n",
    "\n",
    "config = configparser.ConfigParser()\n",
    "config.read('config.ini')\n",
    "\n",
    "host=config['myaws']['host']\n",
    "db=config['myaws']['db']\n",
    "user=config['myaws']['user']\n",
    "pwd = config['myaws']['pwd']\n",
    "\n",
    "conn = psycopg2.connect(  host=host,\n",
    "                       user=user,\n",
    "                       password = pwd,\n",
    "                       dbname=db)\n",
    "\n"
   ]
  },
  {
   "cell_type": "code",
   "execution_count": 4,
   "id": "fe599ede",
   "metadata": {},
   "outputs": [],
   "source": [
    "cur=conn.cursor()"
   ]
  },
  {
   "cell_type": "code",
   "execution_count": 7,
   "id": "367df702",
   "metadata": {},
   "outputs": [],
   "source": [
    "sql_q1= \"\"\"\n",
    "        select * from demo.student\"\"\""
   ]
  },
  {
   "cell_type": "code",
   "execution_count": 9,
   "id": "54a09851",
   "metadata": {},
   "outputs": [
    {
     "data": {
      "text/html": [
       "<div>\n",
       "<style scoped>\n",
       "    .dataframe tbody tr th:only-of-type {\n",
       "        vertical-align: middle;\n",
       "    }\n",
       "\n",
       "    .dataframe tbody tr th {\n",
       "        vertical-align: top;\n",
       "    }\n",
       "\n",
       "    .dataframe thead th {\n",
       "        text-align: right;\n",
       "    }\n",
       "</style>\n",
       "<table border=\"1\" class=\"dataframe\">\n",
       "  <thead>\n",
       "    <tr style=\"text-align: right;\">\n",
       "      <th></th>\n",
       "      <th>s_email</th>\n",
       "      <th>s_name</th>\n",
       "      <th>major</th>\n",
       "    </tr>\n",
       "  </thead>\n",
       "  <tbody>\n",
       "    <tr>\n",
       "      <th>0</th>\n",
       "      <td>s1@jmu.edu</td>\n",
       "      <td>s1</td>\n",
       "      <td>m1</td>\n",
       "    </tr>\n",
       "    <tr>\n",
       "      <th>1</th>\n",
       "      <td>s2@jmu.edu</td>\n",
       "      <td>s2</td>\n",
       "      <td>m2</td>\n",
       "    </tr>\n",
       "    <tr>\n",
       "      <th>2</th>\n",
       "      <td>s3@jmu.edu</td>\n",
       "      <td>s3</td>\n",
       "      <td>m1</td>\n",
       "    </tr>\n",
       "    <tr>\n",
       "      <th>3</th>\n",
       "      <td>s4@jmu.edu</td>\n",
       "      <td>s4</td>\n",
       "      <td>m2</td>\n",
       "    </tr>\n",
       "    <tr>\n",
       "      <th>4</th>\n",
       "      <td>s5@jmu.edu</td>\n",
       "      <td>s5</td>\n",
       "      <td>ia</td>\n",
       "    </tr>\n",
       "    <tr>\n",
       "      <th>5</th>\n",
       "      <td>s6@jmu.edu</td>\n",
       "      <td>s6</td>\n",
       "      <td>ia</td>\n",
       "    </tr>\n",
       "  </tbody>\n",
       "</table>\n",
       "</div>"
      ],
      "text/plain": [
       "      s_email s_name major\n",
       "0  s1@jmu.edu     s1    m1\n",
       "1  s2@jmu.edu     s2    m2\n",
       "2  s3@jmu.edu     s3    m1\n",
       "3  s4@jmu.edu     s4    m2\n",
       "4  s5@jmu.edu     s5    ia\n",
       "5  s6@jmu.edu     s6    ia"
      ]
     },
     "execution_count": 9,
     "metadata": {},
     "output_type": "execute_result"
    }
   ],
   "source": [
    "df_q1=pandas.read_sql_query(sql_q1,conn)\n",
    "df_q1[:]"
   ]
  },
  {
   "cell_type": "code",
   "execution_count": 12,
   "id": "313c5973",
   "metadata": {},
   "outputs": [],
   "source": [
    "sql_q2=\"\"\"\n",
    "        select demo.professor.p_name,\n",
    "            demo.course.c_name\n",
    "            from demo.professor\n",
    "            inner join demo.course\n",
    "            on demo.professor.p_email=demo.course.p_email\n",
    "        \"\"\""
   ]
  },
  {
   "cell_type": "code",
   "execution_count": 13,
   "id": "888bc68b",
   "metadata": {},
   "outputs": [
    {
     "data": {
      "text/html": [
       "<div>\n",
       "<style scoped>\n",
       "    .dataframe tbody tr th:only-of-type {\n",
       "        vertical-align: middle;\n",
       "    }\n",
       "\n",
       "    .dataframe tbody tr th {\n",
       "        vertical-align: top;\n",
       "    }\n",
       "\n",
       "    .dataframe thead th {\n",
       "        text-align: right;\n",
       "    }\n",
       "</style>\n",
       "<table border=\"1\" class=\"dataframe\">\n",
       "  <thead>\n",
       "    <tr style=\"text-align: right;\">\n",
       "      <th></th>\n",
       "      <th>p_name</th>\n",
       "      <th>c_name</th>\n",
       "    </tr>\n",
       "  </thead>\n",
       "  <tbody>\n",
       "    <tr>\n",
       "      <th>0</th>\n",
       "      <td>t2</td>\n",
       "      <td>cn3</td>\n",
       "    </tr>\n",
       "    <tr>\n",
       "      <th>1</th>\n",
       "      <td>t3</td>\n",
       "      <td>cn4</td>\n",
       "    </tr>\n",
       "    <tr>\n",
       "      <th>2</th>\n",
       "      <td>p_new_n</td>\n",
       "      <td>c_new_name</td>\n",
       "    </tr>\n",
       "    <tr>\n",
       "      <th>3</th>\n",
       "      <td>p_new_n</td>\n",
       "      <td>cn1</td>\n",
       "    </tr>\n",
       "    <tr>\n",
       "      <th>4</th>\n",
       "      <td>p_new_n</td>\n",
       "      <td>cn2</td>\n",
       "    </tr>\n",
       "  </tbody>\n",
       "</table>\n",
       "</div>"
      ],
      "text/plain": [
       "    p_name      c_name\n",
       "0       t2         cn3\n",
       "1       t3         cn4\n",
       "2  p_new_n  c_new_name\n",
       "3  p_new_n         cn1\n",
       "4  p_new_n         cn2"
      ]
     },
     "execution_count": 13,
     "metadata": {},
     "output_type": "execute_result"
    }
   ],
   "source": [
    "df_q2=pandas.read_sql_query(sql_q2,conn)\n",
    "df_q2[:]"
   ]
  },
  {
   "cell_type": "code",
   "execution_count": 16,
   "id": "e873a8a0",
   "metadata": {},
   "outputs": [],
   "source": [
    "sql_q3 = \"\"\"\n",
    "          select c_number,\n",
    "          count(*) as course_count\n",
    "          from demo.enroll_list\n",
    "          group by c_number\n",
    "            \"\"\""
   ]
  },
  {
   "cell_type": "code",
   "execution_count": 20,
   "id": "d80a8ada",
   "metadata": {},
   "outputs": [
    {
     "data": {
      "text/plain": [
       "<AxesSubplot:xlabel='c_number'>"
      ]
     },
     "execution_count": 20,
     "metadata": {},
     "output_type": "execute_result"
    },
    {
     "data": {
      "image/png": "[encoded data removed]",
      "text/plain": [
       "<Figure size 432x288 with 1 Axes>"
      ]
     },
     "metadata": {
      "needs_background": "light"
     },
     "output_type": "display_data"
    }
   ],
   "source": [
    "df_q3=pandas.read_sql_query(sql_q3,conn)\n",
    "df_q3.plot.bar(x='c_number',y='course_count')"
   ]
  },
  {
   "cell_type": "code",
   "execution_count": 23,
   "id": "36e4aad5",
   "metadata": {},
   "outputs": [],
   "source": [
    "sql_q4=\"\"\"\n",
    "        select demo.professor.p_name,\n",
    "            count(demo.course.c_name) as num_couse\n",
    "            from demo.professor\n",
    "            inner join demo.course\n",
    "            on demo.professor.p_email=demo.course.p_email\n",
    "            group by demo.professor.p_name\n",
    "        \"\"\""
   ]
  },
  {
   "cell_type": "code",
   "execution_count": 24,
   "id": "eeb2e3d2",
   "metadata": {},
   "outputs": [
    {
     "data": {
      "text/plain": [
       "<AxesSubplot:xlabel='p_name'>"
      ]
     },
     "execution_count": 24,
     "metadata": {},
     "output_type": "execute_result"
    },
    {
     "data": {
      "image/png": "[encoded data removed]",
      "text/plain": [
       "<Figure size 432x288 with 1 Axes>"
      ]
     },
     "metadata": {
      "needs_background": "light"
     },
     "output_type": "display_data"
    }
   ],
   "source": [
    "df_q4=pandas.read_sql_query(sql_q4,conn)\n",
    "df_q4.plot.bar(x='p_name',y='num_couse')"
   ]
  },
  {
   "cell_type": "code",
   "execution_count": null,
   "id": "3a62a0aa",
   "metadata": {},
   "outputs": [],
   "source": []
  }
 ],
 "metadata": {
  "kernelspec": {
   "display_name": "conda_python3",
   "language": "python",
   "name": "conda_python3"
  },
  "language_info": {
   "codemirror_mode": {
    "name": "ipython",
    "version": 3
   },
   "file_extension": ".py",
   "mimetype": "text/x-python",
   "name": "python",
   "nbconvert_exporter": "python",
   "pygments_lexer": "ipython3",
   "version": "3.6.13"
  }
 },
 "nbformat": 4,
 "nbformat_minor": 5
}
